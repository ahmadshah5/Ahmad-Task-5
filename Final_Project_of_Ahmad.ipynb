{
  "cells": [
    {
      "cell_type": "markdown",
      "metadata": {
        "id": "view-in-github",
        "colab_type": "text"
      },
      "source": [
        "<a href=\"https://colab.research.google.com/github/ahmadshah5/Ahmad-Task-5/blob/main/Final_Project_of_Ahmad.ipynb\" target=\"_parent\"><img src=\"https://colab.research.google.com/assets/colab-badge.svg\" alt=\"Open In Colab\"/></a>"
      ]
    },
    {
      "cell_type": "code",
      "source": [
        "# Title: Movie Genre Prediction using NLP\n",
        "# By: Ahmad Hassan Shah\n",
        "\n",
        "# Section 1: Import Necessary Libraries\n",
        "import numpy as np\n",
        "import pandas as pd\n",
        "import matplotlib.pyplot as plt\n",
        "import seaborn as sns\n",
        "from sklearn.model_selection import train_test_split\n",
        "from sklearn.feature_extraction.text import TfidfVectorizer\n",
        "from sklearn.linear_model import LogisticRegression\n",
        "from sklearn.multiclass import OneVsRestClassifier\n",
        "from sklearn.metrics import accuracy_score, classification_report\n",
        "from sklearn.preprocessing import MultiLabelBinarizer\n",
        "\n"
      ],
      "metadata": {
        "id": "xgaLXSPw_IfP"
      },
      "execution_count": 10,
      "outputs": []
    },
    {
      "cell_type": "code",
      "source": [
        "\n",
        "# We will create a small list of movie plots and their genres for this demo.\n",
        "data = {\n",
        "    'plot': [\n",
        "        # Action plots\n",
        "        \"A cop must defuse a bomb on a speeding bus. He races against time with the help of a passenger.\",\n",
        "        \"A spy must retrieve stolen nuclear codes. He chases the villain across the city in sports cars.\",\n",
        "        \"A soldier leads a mission to rescue hostages from terrorists in an embassy.\",\n",
        "        \"A martial artist enters a tournament to defeat the champion who killed his teacher.\",\n",
        "\n",
        "        # Comedy plots\n",
        "        \"Four friends go on a road trip for a wedding. Everything that can go wrong, does.\",\n",
        "        \"A clumsy man gets a job at a zoo. His funny mistakes cause chaos but save the day.\",\n",
        "        \"A family tries to win a talent show. Their act is a hilarious disaster.\",\n",
        "        \"A man pretends to be a prince to impress a woman. His lies get funnier and more complicated.\",\n",
        "\n",
        "        # Horror plots\n",
        "        \"A family moves into a haunted house. They are terrorized by ghosts at night.\",\n",
        "        \"Teenagers go camping in the woods. A masked killer hunts them one by one.\",\n",
        "        \"A demon possesses a young child. A priest is called to perform an exorcism.\",\n",
        "        \"Scientists experiment with a portal to another dimension. Monstrous creatures break through.\",\n",
        "\n",
        "        # Drama plots\n",
        "        \"A lawyer defends an innocent man in a racist town. He faces many challenges but fights for justice.\",\n",
        "        \"A musician struggles with addiction. He tries to reconnect with his family and rebuild his career.\",\n",
        "        \"Two siblings fight over their family's business inheritance after their father's death.\",\n",
        "        \"An old man fulfills his wife's last wish by going on an adventure with a young friend.\",\n",
        "\n",
        "        # Fantasy plots\n",
        "        \"A young farm boy discovers he has magic powers. He goes on a quest to defeat an evil sorcerer.\",\n",
        "        \"A group of dwarves recruits a hobbit to help them reclaim their mountain from a dragon.\",\n",
        "        \"Children enter a magical world through a wardrobe. They become kings and queens and fight a witch.\",\n",
        "        \"A wizard mentors a young girl. They go on a journey to find a fallen star.\",\n",
        "    ],\n",
        "    'genre': [\n",
        "        'Action', 'Action', 'Action', 'Action',\n",
        "        'Comedy', 'Comedy', 'Comedy', 'Comedy',\n",
        "        'Horror', 'Horror', 'Horror', 'Horror',\n",
        "        'Drama', 'Drama', 'Drama', 'Drama',\n",
        "        'Fantasy', 'Fantasy', 'Fantasy', 'Fantasy'\n",
        "    ]\n",
        "}\n",
        "\n",
        "# Create a DataFrame\n",
        "df = pd.DataFrame(data)\n",
        "print(\"✅ Custom Dataset Created!\")\n",
        "print(\"Dataset Shape:\", df.shape)\n",
        "print(\"\\nFirst 5 rows:\")\n",
        "df.head()"
      ],
      "metadata": {
        "colab": {
          "base_uri": "https://localhost:8080/",
          "height": 276
        },
        "id": "p6TPogB9_VQH",
        "outputId": "b6a0ab85-ef0d-47b4-db3c-75241c6fb226"
      },
      "execution_count": 11,
      "outputs": [
        {
          "output_type": "stream",
          "name": "stdout",
          "text": [
            "✅ Custom Dataset Created!\n",
            "Dataset Shape: (20, 2)\n",
            "\n",
            "First 5 rows:\n"
          ]
        },
        {
          "output_type": "execute_result",
          "data": {
            "text/plain": [
              "                                                plot   genre\n",
              "0  A cop must defuse a bomb on a speeding bus. He...  Action\n",
              "1  A spy must retrieve stolen nuclear codes. He c...  Action\n",
              "2  A soldier leads a mission to rescue hostages f...  Action\n",
              "3  A martial artist enters a tournament to defeat...  Action\n",
              "4  Four friends go on a road trip for a wedding. ...  Comedy"
            ],
            "text/html": [
              "\n",
              "  <div id=\"df-66409cc4-5598-4ed6-a469-486b2714d035\" class=\"colab-df-container\">\n",
              "    <div>\n",
              "<style scoped>\n",
              "    .dataframe tbody tr th:only-of-type {\n",
              "        vertical-align: middle;\n",
              "    }\n",
              "\n",
              "    .dataframe tbody tr th {\n",
              "        vertical-align: top;\n",
              "    }\n",
              "\n",
              "    .dataframe thead th {\n",
              "        text-align: right;\n",
              "    }\n",
              "</style>\n",
              "<table border=\"1\" class=\"dataframe\">\n",
              "  <thead>\n",
              "    <tr style=\"text-align: right;\">\n",
              "      <th></th>\n",
              "      <th>plot</th>\n",
              "      <th>genre</th>\n",
              "    </tr>\n",
              "  </thead>\n",
              "  <tbody>\n",
              "    <tr>\n",
              "      <th>0</th>\n",
              "      <td>A cop must defuse a bomb on a speeding bus. He...</td>\n",
              "      <td>Action</td>\n",
              "    </tr>\n",
              "    <tr>\n",
              "      <th>1</th>\n",
              "      <td>A spy must retrieve stolen nuclear codes. He c...</td>\n",
              "      <td>Action</td>\n",
              "    </tr>\n",
              "    <tr>\n",
              "      <th>2</th>\n",
              "      <td>A soldier leads a mission to rescue hostages f...</td>\n",
              "      <td>Action</td>\n",
              "    </tr>\n",
              "    <tr>\n",
              "      <th>3</th>\n",
              "      <td>A martial artist enters a tournament to defeat...</td>\n",
              "      <td>Action</td>\n",
              "    </tr>\n",
              "    <tr>\n",
              "      <th>4</th>\n",
              "      <td>Four friends go on a road trip for a wedding. ...</td>\n",
              "      <td>Comedy</td>\n",
              "    </tr>\n",
              "  </tbody>\n",
              "</table>\n",
              "</div>\n",
              "    <div class=\"colab-df-buttons\">\n",
              "\n",
              "  <div class=\"colab-df-container\">\n",
              "    <button class=\"colab-df-convert\" onclick=\"convertToInteractive('df-66409cc4-5598-4ed6-a469-486b2714d035')\"\n",
              "            title=\"Convert this dataframe to an interactive table.\"\n",
              "            style=\"display:none;\">\n",
              "\n",
              "  <svg xmlns=\"http://www.w3.org/2000/svg\" height=\"24px\" viewBox=\"0 -960 960 960\">\n",
              "    <path d=\"M120-120v-720h720v720H120Zm60-500h600v-160H180v160Zm220 220h160v-160H400v160Zm0 220h160v-160H400v160ZM180-400h160v-160H180v160Zm440 0h160v-160H620v160ZM180-180h160v-160H180v160Zm440 0h160v-160H620v160Z\"/>\n",
              "  </svg>\n",
              "    </button>\n",
              "\n",
              "  <style>\n",
              "    .colab-df-container {\n",
              "      display:flex;\n",
              "      gap: 12px;\n",
              "    }\n",
              "\n",
              "    .colab-df-convert {\n",
              "      background-color: #E8F0FE;\n",
              "      border: none;\n",
              "      border-radius: 50%;\n",
              "      cursor: pointer;\n",
              "      display: none;\n",
              "      fill: #1967D2;\n",
              "      height: 32px;\n",
              "      padding: 0 0 0 0;\n",
              "      width: 32px;\n",
              "    }\n",
              "\n",
              "    .colab-df-convert:hover {\n",
              "      background-color: #E2EBFA;\n",
              "      box-shadow: 0px 1px 2px rgba(60, 64, 67, 0.3), 0px 1px 3px 1px rgba(60, 64, 67, 0.15);\n",
              "      fill: #174EA6;\n",
              "    }\n",
              "\n",
              "    .colab-df-buttons div {\n",
              "      margin-bottom: 4px;\n",
              "    }\n",
              "\n",
              "    [theme=dark] .colab-df-convert {\n",
              "      background-color: #3B4455;\n",
              "      fill: #D2E3FC;\n",
              "    }\n",
              "\n",
              "    [theme=dark] .colab-df-convert:hover {\n",
              "      background-color: #434B5C;\n",
              "      box-shadow: 0px 1px 3px 1px rgba(0, 0, 0, 0.15);\n",
              "      filter: drop-shadow(0px 1px 2px rgba(0, 0, 0, 0.3));\n",
              "      fill: #FFFFFF;\n",
              "    }\n",
              "  </style>\n",
              "\n",
              "    <script>\n",
              "      const buttonEl =\n",
              "        document.querySelector('#df-66409cc4-5598-4ed6-a469-486b2714d035 button.colab-df-convert');\n",
              "      buttonEl.style.display =\n",
              "        google.colab.kernel.accessAllowed ? 'block' : 'none';\n",
              "\n",
              "      async function convertToInteractive(key) {\n",
              "        const element = document.querySelector('#df-66409cc4-5598-4ed6-a469-486b2714d035');\n",
              "        const dataTable =\n",
              "          await google.colab.kernel.invokeFunction('convertToInteractive',\n",
              "                                                    [key], {});\n",
              "        if (!dataTable) return;\n",
              "\n",
              "        const docLinkHtml = 'Like what you see? Visit the ' +\n",
              "          '<a target=\"_blank\" href=https://colab.research.google.com/notebooks/data_table.ipynb>data table notebook</a>'\n",
              "          + ' to learn more about interactive tables.';\n",
              "        element.innerHTML = '';\n",
              "        dataTable['output_type'] = 'display_data';\n",
              "        await google.colab.output.renderOutput(dataTable, element);\n",
              "        const docLink = document.createElement('div');\n",
              "        docLink.innerHTML = docLinkHtml;\n",
              "        element.appendChild(docLink);\n",
              "      }\n",
              "    </script>\n",
              "  </div>\n",
              "\n",
              "\n",
              "    <div id=\"df-89cbf84c-bec6-4505-a6c8-15be79c7eae9\">\n",
              "      <button class=\"colab-df-quickchart\" onclick=\"quickchart('df-89cbf84c-bec6-4505-a6c8-15be79c7eae9')\"\n",
              "                title=\"Suggest charts\"\n",
              "                style=\"display:none;\">\n",
              "\n",
              "<svg xmlns=\"http://www.w3.org/2000/svg\" height=\"24px\"viewBox=\"0 0 24 24\"\n",
              "     width=\"24px\">\n",
              "    <g>\n",
              "        <path d=\"M19 3H5c-1.1 0-2 .9-2 2v14c0 1.1.9 2 2 2h14c1.1 0 2-.9 2-2V5c0-1.1-.9-2-2-2zM9 17H7v-7h2v7zm4 0h-2V7h2v10zm4 0h-2v-4h2v4z\"/>\n",
              "    </g>\n",
              "</svg>\n",
              "      </button>\n",
              "\n",
              "<style>\n",
              "  .colab-df-quickchart {\n",
              "      --bg-color: #E8F0FE;\n",
              "      --fill-color: #1967D2;\n",
              "      --hover-bg-color: #E2EBFA;\n",
              "      --hover-fill-color: #174EA6;\n",
              "      --disabled-fill-color: #AAA;\n",
              "      --disabled-bg-color: #DDD;\n",
              "  }\n",
              "\n",
              "  [theme=dark] .colab-df-quickchart {\n",
              "      --bg-color: #3B4455;\n",
              "      --fill-color: #D2E3FC;\n",
              "      --hover-bg-color: #434B5C;\n",
              "      --hover-fill-color: #FFFFFF;\n",
              "      --disabled-bg-color: #3B4455;\n",
              "      --disabled-fill-color: #666;\n",
              "  }\n",
              "\n",
              "  .colab-df-quickchart {\n",
              "    background-color: var(--bg-color);\n",
              "    border: none;\n",
              "    border-radius: 50%;\n",
              "    cursor: pointer;\n",
              "    display: none;\n",
              "    fill: var(--fill-color);\n",
              "    height: 32px;\n",
              "    padding: 0;\n",
              "    width: 32px;\n",
              "  }\n",
              "\n",
              "  .colab-df-quickchart:hover {\n",
              "    background-color: var(--hover-bg-color);\n",
              "    box-shadow: 0 1px 2px rgba(60, 64, 67, 0.3), 0 1px 3px 1px rgba(60, 64, 67, 0.15);\n",
              "    fill: var(--button-hover-fill-color);\n",
              "  }\n",
              "\n",
              "  .colab-df-quickchart-complete:disabled,\n",
              "  .colab-df-quickchart-complete:disabled:hover {\n",
              "    background-color: var(--disabled-bg-color);\n",
              "    fill: var(--disabled-fill-color);\n",
              "    box-shadow: none;\n",
              "  }\n",
              "\n",
              "  .colab-df-spinner {\n",
              "    border: 2px solid var(--fill-color);\n",
              "    border-color: transparent;\n",
              "    border-bottom-color: var(--fill-color);\n",
              "    animation:\n",
              "      spin 1s steps(1) infinite;\n",
              "  }\n",
              "\n",
              "  @keyframes spin {\n",
              "    0% {\n",
              "      border-color: transparent;\n",
              "      border-bottom-color: var(--fill-color);\n",
              "      border-left-color: var(--fill-color);\n",
              "    }\n",
              "    20% {\n",
              "      border-color: transparent;\n",
              "      border-left-color: var(--fill-color);\n",
              "      border-top-color: var(--fill-color);\n",
              "    }\n",
              "    30% {\n",
              "      border-color: transparent;\n",
              "      border-left-color: var(--fill-color);\n",
              "      border-top-color: var(--fill-color);\n",
              "      border-right-color: var(--fill-color);\n",
              "    }\n",
              "    40% {\n",
              "      border-color: transparent;\n",
              "      border-right-color: var(--fill-color);\n",
              "      border-top-color: var(--fill-color);\n",
              "    }\n",
              "    60% {\n",
              "      border-color: transparent;\n",
              "      border-right-color: var(--fill-color);\n",
              "    }\n",
              "    80% {\n",
              "      border-color: transparent;\n",
              "      border-right-color: var(--fill-color);\n",
              "      border-bottom-color: var(--fill-color);\n",
              "    }\n",
              "    90% {\n",
              "      border-color: transparent;\n",
              "      border-bottom-color: var(--fill-color);\n",
              "    }\n",
              "  }\n",
              "</style>\n",
              "\n",
              "      <script>\n",
              "        async function quickchart(key) {\n",
              "          const quickchartButtonEl =\n",
              "            document.querySelector('#' + key + ' button');\n",
              "          quickchartButtonEl.disabled = true;  // To prevent multiple clicks.\n",
              "          quickchartButtonEl.classList.add('colab-df-spinner');\n",
              "          try {\n",
              "            const charts = await google.colab.kernel.invokeFunction(\n",
              "                'suggestCharts', [key], {});\n",
              "          } catch (error) {\n",
              "            console.error('Error during call to suggestCharts:', error);\n",
              "          }\n",
              "          quickchartButtonEl.classList.remove('colab-df-spinner');\n",
              "          quickchartButtonEl.classList.add('colab-df-quickchart-complete');\n",
              "        }\n",
              "        (() => {\n",
              "          let quickchartButtonEl =\n",
              "            document.querySelector('#df-89cbf84c-bec6-4505-a6c8-15be79c7eae9 button');\n",
              "          quickchartButtonEl.style.display =\n",
              "            google.colab.kernel.accessAllowed ? 'block' : 'none';\n",
              "        })();\n",
              "      </script>\n",
              "    </div>\n",
              "\n",
              "    </div>\n",
              "  </div>\n"
            ],
            "application/vnd.google.colaboratory.intrinsic+json": {
              "type": "dataframe",
              "variable_name": "df",
              "summary": "{\n  \"name\": \"df\",\n  \"rows\": 20,\n  \"fields\": [\n    {\n      \"column\": \"plot\",\n      \"properties\": {\n        \"dtype\": \"string\",\n        \"num_unique_values\": 20,\n        \"samples\": [\n          \"A cop must defuse a bomb on a speeding bus. He races against time with the help of a passenger.\",\n          \"A group of dwarves recruits a hobbit to help them reclaim their mountain from a dragon.\",\n          \"An old man fulfills his wife's last wish by going on an adventure with a young friend.\"\n        ],\n        \"semantic_type\": \"\",\n        \"description\": \"\"\n      }\n    },\n    {\n      \"column\": \"genre\",\n      \"properties\": {\n        \"dtype\": \"category\",\n        \"num_unique_values\": 5,\n        \"samples\": [\n          \"Comedy\",\n          \"Fantasy\",\n          \"Horror\"\n        ],\n        \"semantic_type\": \"\",\n        \"description\": \"\"\n      }\n    }\n  ]\n}"
            }
          },
          "metadata": {},
          "execution_count": 11
        }
      ]
    },
    {
      "cell_type": "code",
      "source": [
        "\n",
        "# Check for missing values\n",
        "print(\"Missing Values:\\n\", df.isnull().sum())\n",
        "\n",
        "# Let's see the distribution of genres\n",
        "plt.figure(figsize=(10,5))\n",
        "sns.countplot(data=df, y='genre', order=df['genre'].value_counts().index, palette='viridis')\n",
        "plt.title('Distribution of Movie Genres in Our Dataset')\n",
        "plt.xlabel('Count')\n",
        "plt.tight_layout()\n",
        "plt.show()\n"
      ],
      "metadata": {
        "colab": {
          "base_uri": "https://localhost:8080/",
          "height": 683
        },
        "id": "SjJdH-mZ_eCP",
        "outputId": "c1a8dda6-0298-4e8e-ec0e-210cc11eea76"
      },
      "execution_count": 12,
      "outputs": [
        {
          "output_type": "stream",
          "name": "stdout",
          "text": [
            "Missing Values:\n",
            " plot     0\n",
            "genre    0\n",
            "dtype: int64\n"
          ]
        },
        {
          "output_type": "stream",
          "name": "stderr",
          "text": [
            "/tmp/ipython-input-3893295582.py:7: FutureWarning: \n",
            "\n",
            "Passing `palette` without assigning `hue` is deprecated and will be removed in v0.14.0. Assign the `y` variable to `hue` and set `legend=False` for the same effect.\n",
            "\n",
            "  sns.countplot(data=df, y='genre', order=df['genre'].value_counts().index, palette='viridis')\n"
          ]
        },
        {
          "output_type": "display_data",
          "data": {
            "text/plain": [
              "<Figure size 1000x500 with 1 Axes>"
            ],
            "image/png": "[encoded data removed]"
          },
          "metadata": {}
        }
      ]
    },
    {
      "cell_type": "code",
      "source": [
        "\n",
        "# Convert the 'genre' string labels into a list of genres (required for multi-label format)\n",
        "# Since each movie has only one genre here, we wrap it in a list.\n",
        "df['genre_list'] = df['genre'].apply(lambda x: [x])\n",
        "\n",
        "# Prepare the labels (Multi-label Binarization - even though it's single-label here)\n",
        "mlb = MultiLabelBinarizer()\n",
        "y = mlb.fit_transform(df['genre_list'])\n",
        "class_names = mlb.classes_\n",
        "\n",
        "print(\"Our classes (genres):\", class_names)\n",
        "\n",
        "# Prepare the features (Text Vectorization using TF-IDF)\n",
        "tfidf = TfidfVectorizer(stop_words='english', max_features=1000)\n",
        "X = tfidf.fit_transform(df['plot'])\n",
        "\n",
        "print(\"Shape of our vectorized features (X):\", X.shape)\n",
        "print(\"Shape of our labels (y):\", y.shape)\n",
        "\n",
        "# Split the data into training and testing sets\n",
        "X_train, X_test, y_train, y_test = train_test_split(X, y, test_size=0.3, random_state=42)\n",
        "print(f\"Training samples: {X_train.shape[0]}\")\n",
        "print(f\"Testing samples: {X_test.shape[0]}\")"
      ],
      "metadata": {
        "colab": {
          "base_uri": "https://localhost:8080/"
        },
        "id": "AiNwz63x_kS3",
        "outputId": "51cffb30-88bc-4b0b-c5b8-ca1540920c59"
      },
      "execution_count": 13,
      "outputs": [
        {
          "output_type": "stream",
          "name": "stdout",
          "text": [
            "Our classes (genres): ['Action' 'Comedy' 'Drama' 'Fantasy' 'Horror']\n",
            "Shape of our vectorized features (X): (20, 150)\n",
            "Shape of our labels (y): (20, 5)\n",
            "Training samples: 14\n",
            "Testing samples: 6\n"
          ]
        }
      ]
    },
    {
      "cell_type": "code",
      "source": [
        "\n",
        "# Use Logistic Regression with OneVsRest strategy\n",
        "model = OneVsRestClassifier(LogisticRegression(max_iter=1000, random_state=42))\n",
        "model.fit(X_train, y_train)\n",
        "print(\"✅ Model Training Complete!\")"
      ],
      "metadata": {
        "colab": {
          "base_uri": "https://localhost:8080/"
        },
        "id": "BlSahZJ8_ron",
        "outputId": "6524aaf1-83e1-483a-e69f-992a808995c4"
      },
      "execution_count": 14,
      "outputs": [
        {
          "output_type": "stream",
          "name": "stdout",
          "text": [
            "✅ Model Training Complete!\n"
          ]
        }
      ]
    },
    {
      "cell_type": "code",
      "source": [
        "\n",
        "# Predict on the test set\n",
        "y_pred = model.predict(X_test)\n",
        "\n",
        "# Calculate Accuracy\n",
        "accuracy = accuracy_score(y_test, y_pred)\n",
        "print(f\"Model Accuracy: {accuracy:.2f}\")\n",
        "\n",
        "print(\"\\nDetailed Classification Report:\\n\")\n",
        "print(classification_report(y_test, y_pred, target_names=class_names))\n",
        "\n"
      ],
      "metadata": {
        "colab": {
          "base_uri": "https://localhost:8080/"
        },
        "id": "gsdPmge1_wqu",
        "outputId": "0216d5de-227f-4015-c6bd-21287f340b8f"
      },
      "execution_count": 21,
      "outputs": [
        {
          "output_type": "stream",
          "name": "stdout",
          "text": [
            "Model Accuracy: 0.00\n",
            "\n",
            "Detailed Classification Report:\n",
            "\n",
            "              precision    recall  f1-score   support\n",
            "\n",
            "      Action       0.00      0.00      0.00         2\n",
            "      Comedy       0.00      0.00      0.00         1\n",
            "       Drama       0.00      0.00      0.00         1\n",
            "     Fantasy       0.00      0.00      0.00         1\n",
            "      Horror       0.00      0.00      0.00         1\n",
            "\n",
            "   micro avg       0.00      0.00      0.00         6\n",
            "   macro avg       0.00      0.00      0.00         6\n",
            "weighted avg       0.00      0.00      0.00         6\n",
            " samples avg       0.00      0.00      0.00         6\n",
            "\n"
          ]
        },
        {
          "output_type": "stream",
          "name": "stderr",
          "text": [
            "/usr/local/lib/python3.12/dist-packages/sklearn/metrics/_classification.py:1565: UndefinedMetricWarning: Precision is ill-defined and being set to 0.0 in labels with no predicted samples. Use `zero_division` parameter to control this behavior.\n",
            "  _warn_prf(average, modifier, f\"{metric.capitalize()} is\", len(result))\n",
            "/usr/local/lib/python3.12/dist-packages/sklearn/metrics/_classification.py:1565: UndefinedMetricWarning: Precision is ill-defined and being set to 0.0 due to no predicted samples. Use `zero_division` parameter to control this behavior.\n",
            "  _warn_prf(average, modifier, f\"{metric.capitalize()} is\", len(result))\n",
            "/usr/local/lib/python3.12/dist-packages/sklearn/metrics/_classification.py:1565: UndefinedMetricWarning: Precision is ill-defined and being set to 0.0 in samples with no predicted labels. Use `zero_division` parameter to control this behavior.\n",
            "  _warn_prf(average, modifier, f\"{metric.capitalize()} is\", len(result))\n"
          ]
        }
      ]
    },
    {
      "cell_type": "code",
      "source": [
        "\n",
        "# Let's see the model in action!\n",
        "new_plots = [\n",
        "    \"A knight fights a dragon to save a princess in a castle.\", # Should be Fantasy\n",
        "    \"A guy slips on a banana peel and falls into a wedding cake.\", # Should be Comedy\n",
        "    \"A detective solves a murder mystery in a small town full of secrets.\" # Should be Drama\n",
        "]\n",
        "\n",
        "print(\"🧪 Testing the model on new plots:\\n\")\n",
        "for i, plot in enumerate(new_plots):\n",
        "    new_plot_vectorized = tfidf.transform([plot])\n",
        "    prediction = model.predict(new_plot_vectorized)\n",
        "    predicted_genres = mlb.inverse_transform(prediction)\n",
        "    print(f\"Plot {i+1}: '{plot}'\")\n",
        "    print(f\"--> Predicted Genre: {predicted_genres}\\n\")"
      ],
      "metadata": {
        "colab": {
          "base_uri": "https://localhost:8080/"
        },
        "id": "S8ArI0v8Ae6v",
        "outputId": "b0da7e24-db8e-404e-d557-ef53e15d9ea0"
      },
      "execution_count": 22,
      "outputs": [
        {
          "output_type": "stream",
          "name": "stdout",
          "text": [
            "🧪 Testing the model on new plots:\n",
            "\n",
            "Plot 1: 'A knight fights a dragon to save a princess in a castle.'\n",
            "--> Predicted Genre: [()]\n",
            "\n",
            "Plot 2: 'A guy slips on a banana peel and falls into a wedding cake.'\n",
            "--> Predicted Genre: [()]\n",
            "\n",
            "Plot 3: 'A detective solves a murder mystery in a small town full of secrets.'\n",
            "--> Predicted Genre: [()]\n",
            "\n"
          ]
        }
      ]
    }
  ],
  "metadata": {
    "colab": {
      "provenance": [],
      "authorship_tag": "ABX9TyM+1SAPPRPY41/2joHmgVTO",
      "include_colab_link": true
    },
    "kernelspec": {
      "display_name": "Python 3",
      "name": "python3"
    },
    "language_info": {
      "name": "python"
    }
  },
  "nbformat": 4,
  "nbformat_minor": 0
}